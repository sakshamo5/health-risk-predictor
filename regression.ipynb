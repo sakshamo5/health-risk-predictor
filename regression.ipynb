{
  "nbformat": 4,
  "nbformat_minor": 0,
  "metadata": {
    "colab": {
      "provenance": []
    },
    "kernelspec": {
      "name": "python3",
      "display_name": "Python 3"
    },
    "language_info": {
      "name": "python"
    }
  },
  "cells": [
    {
      "cell_type": "code",
      "execution_count": 17,
      "metadata": {
        "colab": {
          "base_uri": "https://localhost:8080/"
        },
        "id": "Nq2A_0JBBCox",
        "outputId": "2859eb14-d8dd-44c5-e406-1a3f70d4e9d3"
      },
      "outputs": [
        {
          "output_type": "stream",
          "name": "stdout",
          "text": [
            "Model and scaler saved successfully.\n"
          ]
        }
      ],
      "source": [
        "import numpy as np\n",
        "import pandas as pd\n",
        "import joblib\n",
        "from sklearn.model_selection import train_test_split\n",
        "from sklearn.linear_model import LinearRegression\n",
        "from sklearn.preprocessing import StandardScaler\n",
        "\n",
        "# Generate synthetic dataset similar to diabetes dataset\n",
        "np.random.seed(42)\n",
        "n_samples = 200\n",
        "\n",
        "# Creating features (independent variables)\n",
        "data = pd.DataFrame({\n",
        "    \"age\": np.random.randint(20, 80, n_samples),\n",
        "    \"bmi\": np.random.uniform(18, 35, n_samples),\n",
        "    \"blood_pressure\": np.random.uniform(90, 180, n_samples),\n",
        "    \"cholesterol\": np.random.uniform(150, 300, n_samples),\n",
        "    \"glucose\": np.random.uniform(70, 200, n_samples)\n",
        "})\n",
        "\n",
        "# Target variable (dependent variable) - some function of features + noise\n",
        "data[\"target\"] = (\n",
        "    0.2 * data[\"age\"] +\n",
        "    0.5 * data[\"bmi\"] +\n",
        "    0.3 * data[\"blood_pressure\"] +\n",
        "    0.4 * data[\"cholesterol\"] +\n",
        "    0.6 * data[\"glucose\"] +\n",
        "    np.random.normal(0, 10, n_samples)\n",
        ")\n",
        "\n",
        "# Splitting data\n",
        "X = data.drop(columns=[\"target\"])\n",
        "y = data[\"target\"]\n",
        "\n",
        "X_train, X_test, y_train, y_test = train_test_split(X, y, test_size=0.2, random_state=42)\n",
        "\n",
        "# Standardizing\n",
        "scaler = StandardScaler()\n",
        "X_train_scaled = scaler.fit_transform(X_train)\n",
        "X_test_scaled = scaler.transform(X_test)\n",
        "\n",
        "# Train Linear Regression model\n",
        "model = LinearRegression()\n",
        "model.fit(X_train_scaled, y_train)\n",
        "\n",
        "# Save model & scaler\n",
        "joblib.dump(model, \"regression_model.pkl\")\n",
        "joblib.dump(scaler, \"scaler.pkl\")\n",
        "data.to_csv(\"synthetic_regression_data.csv\", index=False)\n",
        "\n",
        "print(\"Model and scaler saved successfully.\")\n"
      ]
    }
  ]
}